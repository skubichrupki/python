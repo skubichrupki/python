{
 "cells": [
  {
   "cell_type": "code",
   "execution_count": 57,
   "metadata": {},
   "outputs": [],
   "source": [
    "class Order():\n",
    "    def __init__(self, order_id, order, order_type, price, quantity):\n",
    "      self.order_id = order_id\n",
    "      self.order= order\n",
    "      self.order_type= order_type\n",
    "      self.price = price\n",
    "      self.quantity= quantity\n",
    " \n",
    "    def __str__(self):\n",
    "      return f'Id={self.order_id}, order={self.order}, order_type={self.order_type}, price={self.price}, quantity={self.quantity}'\n"
   ]
  },
  {
   "cell_type": "code",
   "execution_count": 58,
   "metadata": {},
   "outputs": [],
   "source": [
    "# orders list\n",
    "orders = []"
   ]
  },
  {
   "cell_type": "code",
   "execution_count": 59,
   "metadata": {},
   "outputs": [],
   "source": [
    "# function to add new order\n",
    "# first parameters is the list to add instance of Order object to\n",
    "# then make a variable new_order from an object and append it to he list\n",
    "def add_order(orders, order_id, order, order_type, price, quantity):\n",
    "    new_order = Order(order_id, order, order_type, price, quantity)\n",
    "    orders.append(new_order)\n",
    "\n",
    "# check for best buy/sell order\n",
    "def best_order(orders):\n",
    "    best_order_buy = None\n",
    "    best_order_sell = None\n",
    "    best_order_buy_id = \"\"\n",
    "    best_order_buy_total = 0\n",
    "    best_order_sell_total = 0\n",
    "    # best order for buy i assume is the one with biggest price so we can sell with bigger profit?\n",
    "    for order in orders:\n",
    "        if order.order == \"Buy\" and (best_order_buy is None or order.price > best_order_buy.price):\n",
    "            best_order_buy = order\n",
    "            best_order_buy_id = order.order_id\n",
    "            best_order_buy_total = order.price * order.quantity\n",
    "        if order.order == \"Sell\" and (best_order_sell is None or order.price < best_order_sell.price):\n",
    "            best_order_sell = order\n",
    "            best_order_sell_id= order.order_id\n",
    "            best_order_sell_total = order.price * order.quantity\n",
    "\n",
    "    print(f'best_order_buy_total:{best_order_buy_total} id: {best_order_buy_id}')\n",
    "    print(f'best_order_sell_total:{best_order_sell_total} id: {best_order_sell_id}')\n"
   ]
  },
  {
   "cell_type": "code",
   "execution_count": 60,
   "metadata": {},
   "outputs": [],
   "source": [
    "# add orders from the table to the list via add_order function\n",
    "add_order(orders, \"001\", \"Buy\", 'Add', 20.0, 100)\n",
    "add_order(orders, \"002\", \"Sell\", 'Add', 25.0, 200)\n",
    "add_order(orders, \"003\", \"Buy\", 'Add', 23.0, 50)\n",
    "add_order(orders, \"004\", \"Buy\", 'Add', 23.0, 70)\n",
    "add_order(orders, \"003\", \"Buy\", 'Remove', 23.0, 50)\n",
    "add_order(orders, \"005\", \"Sell\", 'Add', 28.0, 100)"
   ]
  },
  {
   "cell_type": "code",
   "execution_count": 61,
   "metadata": {},
   "outputs": [
    {
     "name": "stdout",
     "output_type": "stream",
     "text": [
      "best_order_buy_total:1150.0 id: 003\n",
      "best_order_sell_total:5000.0 id: 002\n"
     ]
    }
   ],
   "source": [
    "best_order(orders)"
   ]
  }
 ],
 "metadata": {
  "kernelspec": {
   "display_name": "Python 3",
   "language": "python",
   "name": "python3"
  },
  "language_info": {
   "codemirror_mode": {
    "name": "ipython",
    "version": 3
   },
   "file_extension": ".py",
   "mimetype": "text/x-python",
   "name": "python",
   "nbconvert_exporter": "python",
   "pygments_lexer": "ipython3",
   "version": "3.10.6"
  }
 },
 "nbformat": 4,
 "nbformat_minor": 2
}
